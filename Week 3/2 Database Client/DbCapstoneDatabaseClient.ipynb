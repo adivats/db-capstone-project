{
 "cells": [
  {
   "cell_type": "markdown",
   "id": "1f5c3136-b0dc-4d4c-9452-8b0bf42b1526",
   "metadata": {},
   "source": [
    "# Task 1\n",
    "Your first step is to import the connector module, enter your user details and connect with the database.\n",
    "\n",
    "<b>NOTE TO REVIEWER</b>\n",
    "Please update user and password to your local MySQL credentials"
   ]
  },
  {
   "cell_type": "code",
   "execution_count": 27,
   "id": "7dafed6a-e7f9-4ca7-ad00-282204a10554",
   "metadata": {},
   "outputs": [],
   "source": [
    "import mysql.connector as connector\n",
    "connection = connector.connect(user = \"dbcapstone\", password = \"12345Dbcapstone!\", db = \"littlelemondb\")\n",
    "cursor = connection.cursor()"
   ]
  },
  {
   "cell_type": "markdown",
   "id": "9b97da9c-84de-4689-a824-8a504a7d016d",
   "metadata": {},
   "source": [
    "# Task 2\n",
    "In this second task, you now need to query the database to show all tables within the database."
   ]
  },
  {
   "cell_type": "code",
   "execution_count": 28,
   "id": "afa55b70-483c-4404-be9e-508bdb250b34",
   "metadata": {},
   "outputs": [
    {
     "name": "stdout",
     "output_type": "stream",
     "text": [
      "('bookings',)\n",
      "('cuisine',)\n",
      "('customers',)\n",
      "('menu',)\n",
      "('menuitems',)\n",
      "('orderdeliverystatus',)\n",
      "('orders',)\n",
      "('staff',)\n"
     ]
    }
   ],
   "source": [
    "show_tables_query = \"SHOW tables\"\n",
    "cursor.execute(show_tables_query)\n",
    "for data in cursor.fetchall():\n",
    "    print(data)"
   ]
  },
  {
   "cell_type": "markdown",
   "id": "991f189c-1245-4f5f-b72a-be3ed37cce5e",
   "metadata": {},
   "source": [
    "# Task 3\n",
    "<b>Query with table JOIN<b>\n",
    "\n",
    "For the third and final task, Little Lemon need you to return specific details from your database. They require the full name and contact details for every customer that has placed an order greater than $60 for a promotional campaign. "
   ]
  },
  {
   "cell_type": "code",
   "execution_count": 29,
   "id": "e5383662-9b24-4ac7-b63d-248d231cfca5",
   "metadata": {},
   "outputs": [
    {
     "name": "stdout",
     "output_type": "stream",
     "text": [
      "('FullName', 'Email', 'ContactNumber', 'TotalCost')\n",
      "('Customer 1', 'customer1@gmail.com', '9190000001', Decimal('299.85'))\n",
      "('Customer 3', 'customer3@gmail.com', '9190000003', Decimal('199.90'))\n",
      "('Customer 2', 'customer2@gmail.com', '9190000002', Decimal('199.90'))\n"
     ]
    }
   ],
   "source": [
    "query = \"\"\"SELECT\n",
    "CONCAT(customers.FirstName, \" \", customers.LastName) AS FullName,\n",
    "customers.Email,\n",
    "customers.ContactNumber,\n",
    "orders.TotalCost\n",
    "FROM customers\n",
    "INNER JOIN orders ON orders.CustomerID = customers.CustomerID\n",
    "WHERE orders.TotalCost > 60\n",
    "ORDER BY orders.TotalCost DESC;\n",
    "\"\"\"\n",
    "\n",
    "cursor.execute(query)\n",
    "columns = cursor.column_names\n",
    "print(columns)\n",
    "for data in cursor.fetchall():\n",
    "    print(data)"
   ]
  }
 ],
 "metadata": {
  "kernelspec": {
   "display_name": "Python 3 (ipykernel)",
   "language": "python",
   "name": "python3"
  },
  "language_info": {
   "codemirror_mode": {
    "name": "ipython",
    "version": 3
   },
   "file_extension": ".py",
   "mimetype": "text/x-python",
   "name": "python",
   "nbconvert_exporter": "python",
   "pygments_lexer": "ipython3",
   "version": "3.11.4"
  }
 },
 "nbformat": 4,
 "nbformat_minor": 5
}
